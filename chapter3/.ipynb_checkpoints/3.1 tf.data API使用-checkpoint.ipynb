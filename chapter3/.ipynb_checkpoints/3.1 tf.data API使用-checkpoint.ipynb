{
 "cells": [
  {
   "cell_type": "markdown",
   "metadata": {},
   "source": [
    "1) Dataset基础API使用\n",
    "\n",
    "2) Dataset读取csv文件\n",
    "\n",
    "3) Dataset读取tfrecord文件"
   ]
  },
  {
   "cell_type": "code",
   "execution_count": 1,
   "metadata": {},
   "outputs": [
    {
     "name": "stdout",
     "output_type": "stream",
     "text": [
      "2.0.0\n",
      "sys.version_info(major=3, minor=6, micro=5, releaselevel='final', serial=0)\n",
      "matplotlib 2.2.2\n",
      "numpy 1.16.6\n",
      "pandas 0.23.0\n",
      "sklearn 0.23.2\n",
      "tensorflow 2.0.0\n",
      "tensorflow_core.keras 2.2.4-tf\n"
     ]
    }
   ],
   "source": [
    "import matplotlib as mpl\n",
    "import matplotlib.pyplot as plt\n",
    "%matplotlib inline\n",
    "import numpy as np\n",
    "import sklearn\n",
    "import pandas as pd\n",
    "import os\n",
    "import sys\n",
    "import time\n",
    "import tensorflow as tf\n",
    "\n",
    "from tensorflow import keras\n",
    "\n",
    "print(tf.__version__)\n",
    "print(sys.version_info)\n",
    "for module in mpl, np, pd, sklearn, tf, keras:\n",
    "    print(module.__name__, module.__version__)"
   ]
  },
  {
   "cell_type": "markdown",
   "metadata": {},
   "source": [
    "参考链接：https://blog.csdn.net/qq_18888869/article/details/94575180  "
   ]
  },
  {
   "cell_type": "markdown",
   "metadata": {},
   "source": [
    "tf.data.Dataset.from_tensor_slices: 它的作用是切分传入Tensor的第一个维度，生成相应的dataset"
   ]
  },
  {
   "cell_type": "code",
   "execution_count": 2,
   "metadata": {},
   "outputs": [
    {
     "name": "stdout",
     "output_type": "stream",
     "text": [
      "<TensorSliceDataset shapes: (), types: tf.int32>\n"
     ]
    }
   ],
   "source": [
    "#from_tensor_slices 加载数据集\n",
    "dataset = tf.data.Dataset.from_tensor_slices(np.arange(10))\n",
    "print(dataset)"
   ]
  },
  {
   "cell_type": "code",
   "execution_count": 3,
   "metadata": {},
   "outputs": [
    {
     "name": "stdout",
     "output_type": "stream",
     "text": [
      "tf.Tensor(0, shape=(), dtype=int32)\n",
      "tf.Tensor(1, shape=(), dtype=int32)\n",
      "tf.Tensor(2, shape=(), dtype=int32)\n",
      "tf.Tensor(3, shape=(), dtype=int32)\n",
      "tf.Tensor(4, shape=(), dtype=int32)\n",
      "tf.Tensor(5, shape=(), dtype=int32)\n",
      "tf.Tensor(6, shape=(), dtype=int32)\n",
      "tf.Tensor(7, shape=(), dtype=int32)\n",
      "tf.Tensor(8, shape=(), dtype=int32)\n",
      "tf.Tensor(9, shape=(), dtype=int32)\n"
     ]
    }
   ],
   "source": [
    "for item in dataset:\n",
    "    print(item)"
   ]
  },
  {
   "cell_type": "markdown",
   "metadata": {},
   "source": [
    "传入元组"
   ]
  },
  {
   "cell_type": "code",
   "execution_count": 4,
   "metadata": {},
   "outputs": [
    {
     "name": "stdout",
     "output_type": "stream",
     "text": [
      "<TensorSliceDataset shapes: (2,), types: tf.float64>\n",
      "tf.Tensor([0.29608362 0.84594339], shape=(2,), dtype=float64)\n",
      "tf.Tensor([0.60156264 0.99766312], shape=(2,), dtype=float64)\n",
      "tf.Tensor([0.91433638 0.13323847], shape=(2,), dtype=float64)\n",
      "tf.Tensor([0.47067422 0.52107745], shape=(2,), dtype=float64)\n",
      "tf.Tensor([0.60245699 0.58581052], shape=(2,), dtype=float64)\n"
     ]
    }
   ],
   "source": [
    "dataset = tf.data.Dataset.from_tensor_slices(np.random.uniform(size=(5, 2))) \n",
    "print(dataset)\n",
    "for item in dataset:\n",
    "    print(item)"
   ]
  },
  {
   "cell_type": "code",
   "execution_count": 5,
   "metadata": {},
   "outputs": [
    {
     "name": "stdout",
     "output_type": "stream",
     "text": [
      "tf.Tensor(\n",
      "[[0.29608362 0.84594339]\n",
      " [0.60156264 0.99766312]\n",
      " [0.91433638 0.13323847]\n",
      " [0.47067422 0.52107745]\n",
      " [0.60245699 0.58581052]\n",
      " [0.29608362 0.84594339]\n",
      " [0.60156264 0.99766312]], shape=(7, 2), dtype=float64)\n",
      "tf.Tensor(\n",
      "[[0.91433638 0.13323847]\n",
      " [0.47067422 0.52107745]\n",
      " [0.60245699 0.58581052]\n",
      " [0.29608362 0.84594339]\n",
      " [0.60156264 0.99766312]\n",
      " [0.91433638 0.13323847]\n",
      " [0.47067422 0.52107745]], shape=(7, 2), dtype=float64)\n",
      "tf.Tensor([[0.60245699 0.58581052]], shape=(1, 2), dtype=float64)\n"
     ]
    }
   ],
   "source": [
    "# repeat相当于epochs,重复dataset三次， batch每次取的个数\n",
    "dataset = dataset.repeat(3).batch(7)\n",
    "for item in dataset:\n",
    "    print(item)"
   ]
  },
  {
   "cell_type": "code",
   "execution_count": 6,
   "metadata": {},
   "outputs": [
    {
     "name": "stdout",
     "output_type": "stream",
     "text": [
      "tf.Tensor([0.29608362 0.84594339], shape=(2,), dtype=float64)\n",
      "tf.Tensor([0.60156264 0.99766312], shape=(2,), dtype=float64)\n",
      "tf.Tensor([0.91433638 0.13323847], shape=(2,), dtype=float64)\n",
      "tf.Tensor([0.47067422 0.52107745], shape=(2,), dtype=float64)\n",
      "tf.Tensor([0.60245699 0.58581052], shape=(2,), dtype=float64)\n",
      "tf.Tensor([0.91433638 0.13323847], shape=(2,), dtype=float64)\n",
      "tf.Tensor([0.47067422 0.52107745], shape=(2,), dtype=float64)\n",
      "tf.Tensor([0.60245699 0.58581052], shape=(2,), dtype=float64)\n",
      "tf.Tensor([0.29608362 0.84594339], shape=(2,), dtype=float64)\n",
      "tf.Tensor([0.60156264 0.99766312], shape=(2,), dtype=float64)\n",
      "tf.Tensor([0.60245699 0.58581052], shape=(2,), dtype=float64)\n",
      "tf.Tensor([0.29608362 0.84594339], shape=(2,), dtype=float64)\n",
      "tf.Tensor([0.60156264 0.99766312], shape=(2,), dtype=float64)\n",
      "tf.Tensor([0.91433638 0.13323847], shape=(2,), dtype=float64)\n",
      "tf.Tensor([0.47067422 0.52107745], shape=(2,), dtype=float64)\n"
     ]
    }
   ],
   "source": [
    "# iterleave : 合并数据集\n",
    "\n",
    "dataset2 = dataset.interleave(\n",
    "    lambda v: tf.data.Dataset.from_tensor_slices(v), #map_fn\n",
    "    cycle_length =5, #cycle_lenth 并行化程度\n",
    "    block_length=5 #取出的值个数\n",
    ")\n",
    "\n",
    "for item in dataset2:\n",
    "    print(item)"
   ]
  },
  {
   "cell_type": "code",
   "execution_count": 7,
   "metadata": {},
   "outputs": [
    {
     "name": "stdout",
     "output_type": "stream",
     "text": [
      "(array([[1, 2],\n",
      "       [3, 4],\n",
      "       [5, 6]]), array(['cat', 'dog', 'fox'], dtype='<U3'))\n",
      "<TensorSliceDataset shapes: ((2,), ()), types: (tf.int32, tf.string)>\n",
      "tf.Tensor([1 2], shape=(2,), dtype=int32) tf.Tensor(b'cat', shape=(), dtype=string)\n",
      "[1 2] b'cat'\n",
      "-------------\n",
      "tf.Tensor([3 4], shape=(2,), dtype=int32) tf.Tensor(b'dog', shape=(), dtype=string)\n",
      "[3 4] b'dog'\n",
      "-------------\n",
      "tf.Tensor([5 6], shape=(2,), dtype=int32) tf.Tensor(b'fox', shape=(), dtype=string)\n",
      "[5 6] b'fox'\n",
      "-------------\n"
     ]
    }
   ],
   "source": [
    "x = np.array([[1, 2], [3, 4], [5, 6]])\n",
    "y = np.array(['cat', 'dog', 'fox'])\n",
    "\n",
    "# 传入元组数据\n",
    "dataset3 = tf.data.Dataset.from_tensor_slices((x, y))\n",
    "print((x, y))\n",
    "print(dataset3)\n",
    "\n",
    "for item_x, item_y in dataset3:\n",
    "    print(item_x, item_y)\n",
    "    print(item_x.numpy(),item_y.numpy())\n",
    "    print('-------------')"
   ]
  },
  {
   "cell_type": "markdown",
   "metadata": {},
   "source": [
    "传入参数字典"
   ]
  },
  {
   "cell_type": "code",
   "execution_count": 8,
   "metadata": {},
   "outputs": [
    {
     "name": "stdout",
     "output_type": "stream",
     "text": [
      "{'feature': <tf.Tensor: id=93, shape=(2,), dtype=int32, numpy=array([1, 2])>, 'label': <tf.Tensor: id=94, shape=(), dtype=string, numpy=b'cat'>}\n",
      "[1 2] b'cat'\n",
      "-------------------\n",
      "{'feature': <tf.Tensor: id=95, shape=(2,), dtype=int32, numpy=array([3, 4])>, 'label': <tf.Tensor: id=96, shape=(), dtype=string, numpy=b'dog'>}\n",
      "[3 4] b'dog'\n",
      "-------------------\n",
      "{'feature': <tf.Tensor: id=97, shape=(2,), dtype=int32, numpy=array([5, 6])>, 'label': <tf.Tensor: id=98, shape=(), dtype=string, numpy=b'fox'>}\n",
      "[5 6] b'fox'\n",
      "-------------------\n"
     ]
    }
   ],
   "source": [
    "\n",
    "dataset4 = tf.data.Dataset.from_tensor_slices({\"feature\":x,\n",
    "                                              \"label\":y})\n",
    "\n",
    "for item in dataset4:\n",
    "    print(item)\n",
    "    print(item[\"feature\"].numpy(), item[\"label\"].numpy())\n",
    "    print('-------------------')"
   ]
  },
  {
   "cell_type": "markdown",
   "metadata": {},
   "source": [
    "apply"
   ]
  },
  {
   "cell_type": "code",
   "execution_count": 9,
   "metadata": {},
   "outputs": [
    {
     "data": {
      "text/plain": [
       "[<tf.Tensor: id=115, shape=(), dtype=int64, numpy=0>,\n",
       " <tf.Tensor: id=116, shape=(), dtype=int64, numpy=1>,\n",
       " <tf.Tensor: id=117, shape=(), dtype=int64, numpy=2>,\n",
       " <tf.Tensor: id=118, shape=(), dtype=int64, numpy=3>,\n",
       " <tf.Tensor: id=119, shape=(), dtype=int64, numpy=4>]"
      ]
     },
     "execution_count": 9,
     "metadata": {},
     "output_type": "execute_result"
    }
   ],
   "source": [
    "# apply\n",
    "\n",
    "dataset5 = tf.data.Dataset.range(10)\n",
    "def dataset_fn(ds):\n",
    "    return  ds.filter(lambda x : x<5)\n",
    "\n",
    "dataset6  = dataset5.apply(dataset_fn)\n",
    "list(dataset6)"
   ]
  },
  {
   "cell_type": "markdown",
   "metadata": {},
   "source": [
    "skip\n",
    "\n",
    "'''\n",
    "作用是跳过dataset的前count个值，只取后面的值\n",
    "'''\n",
    "\n",
    "skip(\n",
    "    count\n",
    ")"
   ]
  },
  {
   "cell_type": "code",
   "execution_count": 10,
   "metadata": {},
   "outputs": [
    {
     "data": {
      "text/plain": [
       "[<tf.Tensor: id=131, shape=(), dtype=int64, numpy=7>,\n",
       " <tf.Tensor: id=132, shape=(), dtype=int64, numpy=8>,\n",
       " <tf.Tensor: id=133, shape=(), dtype=int64, numpy=9>]"
      ]
     },
     "execution_count": 10,
     "metadata": {},
     "output_type": "execute_result"
    }
   ],
   "source": [
    "dataset = tf.data.Dataset.range(10) \n",
    "dataset = dataset.skip(7) \n",
    "list(dataset) "
   ]
  },
  {
   "cell_type": "markdown",
   "metadata": {},
   "source": [
    "shuffle\n",
    "\n",
    "    buffer_size：表示dataset中有多少个元素\n",
    "\n",
    "    reshuffle_each_iteration：表示dataset使用repeat时，后面的元素要不要也打乱\n",
    "\n",
    "shuffle(\n",
    "    buffer_size, seed=None, reshuffle_each_iteration=None\n",
    ")\n"
   ]
  },
  {
   "cell_type": "code",
   "execution_count": 11,
   "metadata": {},
   "outputs": [
    {
     "name": "stdout",
     "output_type": "stream",
     "text": [
      "<RepeatDataset shapes: (), types: tf.int64>\n",
      "0 0\n",
      "1 1\n",
      "2 2\n",
      "0 0\n",
      "1 1\n",
      "2 2\n"
     ]
    }
   ],
   "source": [
    "dataset = tf.data.Dataset.range(3) \n",
    "dataset = dataset.shuffle(6) \n",
    "dataset = dataset.repeat(2)  \n",
    "\n",
    "print(dataset)\n",
    "\n",
    "for item in dataset:\n",
    "    print(item.numpy(), item.numpy())"
   ]
  }
 ],
 "metadata": {
  "kernelspec": {
   "display_name": "Python 3",
   "language": "python",
   "name": "python3"
  },
  "language_info": {
   "codemirror_mode": {
    "name": "ipython",
    "version": 3
   },
   "file_extension": ".py",
   "mimetype": "text/x-python",
   "name": "python",
   "nbconvert_exporter": "python",
   "pygments_lexer": "ipython3",
   "version": "3.6.5"
  }
 },
 "nbformat": 4,
 "nbformat_minor": 2
}
