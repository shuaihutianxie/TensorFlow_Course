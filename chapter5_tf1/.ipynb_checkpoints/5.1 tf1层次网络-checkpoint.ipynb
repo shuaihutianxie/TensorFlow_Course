{
 "cells": [
  {
   "cell_type": "code",
   "execution_count": 1,
   "metadata": {},
   "outputs": [
    {
     "name": "stdout",
     "output_type": "stream",
     "text": [
      "1.14.0\n",
      "sys.version_info(major=3, minor=6, micro=5, releaselevel='final', serial=0)\n",
      "matplotlib 2.2.2\n",
      "numpy 1.16.6\n",
      "pandas 0.23.0\n",
      "sklearn 0.23.2\n",
      "tensorflow 1.14.0\n",
      "tensorflow.python.keras.api._v1.keras 2.2.4-tf\n"
     ]
    }
   ],
   "source": [
    "import matplotlib as mpl\n",
    "import matplotlib.pyplot as plt\n",
    "%matplotlib inline\n",
    "import numpy as np\n",
    "import sklearn\n",
    "import pandas as pd\n",
    "import os\n",
    "import sys\n",
    "import time\n",
    "import tensorflow as tf\n",
    "\n",
    "from tensorflow import keras\n",
    "\n",
    "print(tf.__version__)\n",
    "print(sys.version_info)\n",
    "for module in mpl, np, pd, sklearn, tf, keras:\n",
    "    print(module.__name__, module.__version__)"
   ]
  },
  {
   "cell_type": "code",
   "execution_count": 2,
   "metadata": {},
   "outputs": [
    {
     "name": "stdout",
     "output_type": "stream",
     "text": [
      "(5000, 28, 28) (5000,)\n",
      "(55000, 28, 28) (55000,)\n",
      "(10000, 28, 28) (10000,)\n"
     ]
    }
   ],
   "source": [
    "fashion_mnist = keras.datasets.fashion_mnist\n",
    "# 加载数据集\n",
    "(x_train_all, y_train_all), (x_test, y_test) = fashion_mnist.load_data()\n",
    "# 进行训练集、测试集划分\n",
    "x_valid, x_train = x_train_all[:5000], x_train_all[5000:]\n",
    "y_valid, y_train = y_train_all[:5000], y_train_all[5000:]\n",
    "\n",
    "print(x_valid.shape, y_valid.shape)\n",
    "print(x_train.shape, y_train.shape)\n",
    "print(x_test.shape, y_test.shape)"
   ]
  },
  {
   "cell_type": "code",
   "execution_count": 3,
   "metadata": {},
   "outputs": [
    {
     "name": "stdout",
     "output_type": "stream",
     "text": [
      "255 0\n"
     ]
    }
   ],
   "source": [
    "# 求取训练集最大值、最小值\n",
    "print(np.max(x_train), np.min(x_train))"
   ]
  },
  {
   "cell_type": "code",
   "execution_count": 4,
   "metadata": {},
   "outputs": [
    {
     "name": "stdout",
     "output_type": "stream",
     "text": [
      "(43120000, 1)\n",
      "(55000, 784)\n"
     ]
    }
   ],
   "source": [
    "from sklearn.preprocessing import StandardScaler\n",
    "scaler = StandardScaler()\n",
    "\n",
    "tras_test = scaler.fit_transform(x_train.astype(np.float32).reshape(-1, 1))\n",
    "\n",
    "print(tras_test.shape)\n",
    "\n",
    "print(tras_test.reshape(-1, 28 * 28).shape)"
   ]
  },
  {
   "cell_type": "code",
   "execution_count": 5,
   "metadata": {},
   "outputs": [],
   "source": [
    "# x = (x - u) / std\n",
    "\n",
    "from sklearn.preprocessing import StandardScaler\n",
    "\n",
    "# 进行归一化\n",
    "scaler = StandardScaler()\n",
    "# x_train: [None, 28, 28] -> [None, 784]\n",
    "x_train_scaled = scaler.fit_transform(\n",
    "    x_train.astype(np.float32).reshape(-1, 1)).reshape(-1, 28 * 28)\n",
    "x_valid_scaled = scaler.transform(\n",
    "    x_valid.astype(np.float32).reshape(-1, 1)).reshape(-1, 28 * 28)\n",
    "x_test_scaled = scaler.transform(\n",
    "    x_test.astype(np.float32).reshape(-1, 1)).reshape(-1, 28 * 28)"
   ]
  },
  {
   "cell_type": "code",
   "execution_count": 6,
   "metadata": {},
   "outputs": [
    {
     "name": "stdout",
     "output_type": "stream",
     "text": [
      "2.0231433 -0.8105136\n"
     ]
    }
   ],
   "source": [
    "# 求取归一化后的训练集最大值、最小值\n",
    "print(np.max(x_train_scaled), np.min(x_train_scaled))"
   ]
  },
  {
   "cell_type": "markdown",
   "metadata": {},
   "source": [
    "知识点介绍：\n",
    "\n",
    "    tf.equal（x, y） \n",
    "\n",
    "        判断x， y是否相等，相等返回true，不相等false\n",
    "\n",
    "        假设x为预测的结果，y为正确的标签值\n",
    "\n",
    "    tf.cast(x, dtype, name=None) \n",
    "\n",
    "        数据类型转换\n",
    "        x：待转换的数据\n",
    "        dtype：目标数据类型\n",
    "        name=None：操作的名称\n",
    "\n",
    "    tf.reduce_mean() 求均值"
   ]
  },
  {
   "cell_type": "code",
   "execution_count": 10,
   "metadata": {},
   "outputs": [
    {
     "name": "stdout",
     "output_type": "stream",
     "text": [
      "WARNING:tensorflow:From D:\\develop\\Anaconda3\\lib\\site-packages\\tensorflow\\python\\ops\\losses\\losses_impl.py:121: add_dispatch_support.<locals>.wrapper (from tensorflow.python.ops.array_ops) is deprecated and will be removed in a future version.\n",
      "Instructions for updating:\n",
      "Use tf.where in 2.0, which has the same broadcast rule as np.where\n"
     ]
    }
   ],
   "source": [
    "hidden_units = [100, 100]\n",
    "class_num = 10\n",
    "\n",
    "x = tf.placeholder(tf.float32, [None, 28 * 28])\n",
    "y = tf.placeholder(tf.int64, [None])\n",
    "\n",
    "input_for_next_layer = x\n",
    "for hidden_unit in hidden_units:\n",
    "    input_for_next_layer = tf.layers.dense(input_for_next_layer,\n",
    "                                           hidden_unit,\n",
    "                                           activation = tf.nn.relu)\n",
    "\n",
    "\n",
    "logits = tf.layers.dense(input_for_next_layer,\n",
    "                       class_num)\n",
    "\n",
    "# last_hidden_output * W(logits) -> softmax -> prob\n",
    "# 1. logit -> softmax -> prob\n",
    "# 2. labels -> one_hot\n",
    "# 3. calculate cross entropy\n",
    "loss = tf.losses.sparse_softmax_cross_entropy(labels = y,\n",
    "                                      logits = logits)\n",
    "\n",
    "# get accuracy\n",
    "# tf.argmax是tensorflow用numpy的np.argmax实现的，\n",
    "# 它能给出某个tensor对象在某一维上的其数据最大值所在的索引值，\n",
    "# 常用于metric（如acc）的计算, 0：按列计算，1：行计算\n",
    "prediction = tf.argmax(logits, 1)\n",
    "\n",
    "# 判断x， y是否相等，相等返回true，不相等false\n",
    "correct_prediction = tf.equal(prediction, y)\n",
    "accuracy = tf.reduce_mean(tf.cast(correct_prediction, tf.float64))\n",
    "\n",
    "train_op = tf.train.AdamOptimizer(1e-3).minimize(loss)"
   ]
  },
  {
   "cell_type": "code",
   "execution_count": 11,
   "metadata": {},
   "outputs": [
    {
     "name": "stdout",
     "output_type": "stream",
     "text": [
      "Tensor(\"Placeholder_6:0\", shape=(?, 784), dtype=float32)\n",
      "Tensor(\"dense_9/BiasAdd:0\", shape=(?, 10), dtype=float32)\n"
     ]
    }
   ],
   "source": [
    "print(x)\n",
    "print(logits)"
   ]
  },
  {
   "cell_type": "code",
   "execution_count": 13,
   "metadata": {},
   "outputs": [
    {
     "name": "stdout",
     "output_type": "stream",
     "text": [
      "[Train] epoch: 0, step: 2749, loss: 0.25497, accuracy: 0.90\t[Valid] acc: 0.86\n",
      "[Train] epoch: 1, step: 2749, loss: 0.21917, accuracy: 0.85\t[Valid] acc: 0.87\n",
      "[Train] epoch: 2, step: 2749, loss: 0.25822, accuracy: 0.85\t[Valid] acc: 0.88\n",
      "[Train] epoch: 3, step: 2749, loss: 0.16592, accuracy: 0.90\t[Valid] acc: 0.88\n",
      "[Train] epoch: 4, step: 2749, loss: 0.19379, accuracy: 0.85\t[Valid] acc: 0.88\n",
      "[Train] epoch: 5, step: 2749, loss: 0.19702, accuracy: 0.90\t[Valid] acc: 0.88\n",
      "[Train] epoch: 6, step: 2749, loss: 0.14006, accuracy: 0.90\t[Valid] acc: 0.88\n",
      "[Train] epoch: 7, step: 2749, loss: 0.10690, accuracy: 0.95\t[Valid] acc: 0.88\n",
      "[Train] epoch: 8, step: 2749, loss: 0.15215, accuracy: 0.85\t[Valid] acc: 0.88\n",
      "[Train] epoch: 9, step: 2749, loss: 0.11501, accuracy: 0.95\t[Valid] acc: 0.88\n"
     ]
    }
   ],
   "source": [
    "# session\n",
    "\n",
    "init = tf.global_variables_initializer()\n",
    "batch_size = 20\n",
    "epochs = 10\n",
    "train_steps_per_epoch = x_train.shape[0] // batch_size\n",
    "valid_steps = x_valid.shape[0] // batch_size\n",
    "\n",
    "def eval_with_sess(sess, x, y, accuracy, images, labels, batch_size):\n",
    "    eval_steps = images.shape[0] // batch_size\n",
    "    eval_accuracies = []\n",
    "    for step in range(eval_steps):\n",
    "        batch_data = images[step * batch_size : (step+1) * batch_size]\n",
    "        batch_label = labels[step * batch_size : (step+1) * batch_size]\n",
    "        accuracy_val = sess.run(accuracy,\n",
    "                                feed_dict = {\n",
    "                                    x: batch_data,\n",
    "                                    y: batch_label\n",
    "                                })\n",
    "        eval_accuracies.append(accuracy_val)\n",
    "    return np.mean(eval_accuracies)\n",
    "\n",
    "with tf.Session() as sess:\n",
    "    sess.run(init) \n",
    "    for epoch in range(epochs):\n",
    "        for step in range(train_steps_per_epoch):\n",
    "            batch_data = x_train_scaled[\n",
    "                step * batch_size : (step+1) * batch_size]\n",
    "            batch_label = y_train[\n",
    "                step * batch_size : (step+1) * batch_size]\n",
    "            loss_val, accuracy_val, _ = sess.run(\n",
    "                [loss, accuracy, train_op],\n",
    "                feed_dict = {\n",
    "                    x: batch_data,\n",
    "                    y: batch_label\n",
    "                })\n",
    "            print('\\r[Train] epoch: %d, step: %d, loss: %3.5f, accuracy: %2.2f' % (\n",
    "                epoch, step, loss_val, accuracy_val), end=\"\")\n",
    "        valid_accuracy = eval_with_sess(sess, x, y, accuracy,\n",
    "                                        x_valid_scaled, y_valid,\n",
    "                                        batch_size)\n",
    "        print(\"\\t[Valid] acc: %2.2f\" % (valid_accuracy))"
   ]
  },
  {
   "cell_type": "code",
   "execution_count": null,
   "metadata": {},
   "outputs": [],
   "source": []
  }
 ],
 "metadata": {
  "kernelspec": {
   "display_name": "Python 3",
   "language": "python",
   "name": "python3"
  },
  "language_info": {
   "codemirror_mode": {
    "name": "ipython",
    "version": 3
   },
   "file_extension": ".py",
   "mimetype": "text/x-python",
   "name": "python",
   "nbconvert_exporter": "python",
   "pygments_lexer": "ipython3",
   "version": "3.6.5"
  }
 },
 "nbformat": 4,
 "nbformat_minor": 2
}
