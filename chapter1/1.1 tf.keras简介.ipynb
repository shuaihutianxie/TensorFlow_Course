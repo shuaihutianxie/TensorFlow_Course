{
 "cells": [
  {
   "cell_type": "markdown",
   "metadata": {},
   "source": [
    "课程导论：\n",
    "\n",
    "1) 基础API\n",
    "\n",
    "2) 基础API与keras的集成\n",
    "\n",
    "    自定义损失函数\n",
    "    \n",
    "    自定义层次\n",
    "    \n",
    "3) @tf.function的使用\n",
    "\n",
    "    图结构\n",
    "    \n",
    "4) 自定义求导\n"
   ]
  },
  {
   "cell_type": "raw",
   "metadata": {},
   "source": [
    "@tf.function\n",
    "\n",
    "1) 将python函数编译成图\n",
    "\n",
    "2）易于将模型导出成为GraphDef+checkpoint或者SavedModel\n",
    "\n",
    "3) 使得eager execution 可以默认打开\n",
    "\n",
    "4） 1.0的代码可以通过tf.function来继续在2.0里面使用\n",
    "    \n",
    "    i)替换session(2.0版本替换掉session)\n",
    "    "
   ]
  },
  {
   "cell_type": "markdown",
   "metadata": {},
   "source": [
    "# tf.constant"
   ]
  },
  {
   "cell_type": "code",
   "execution_count": 2,
   "metadata": {},
   "outputs": [
    {
     "name": "stdout",
     "output_type": "stream",
     "text": [
      "Tensor(\"Const_1:0\", shape=(2, 3), dtype=float32)\n",
      "Tensor(\"strided_slice:0\", shape=(2, 2), dtype=float32)\n"
     ]
    }
   ],
   "source": [
    "import tensorflow as tf\n",
    "\n",
    "t = tf.constant([[1.,2., 3. ], [4., 5., 6.]])\n",
    "\n",
    "print(t)\n",
    "\n",
    "print(t[:, 1:])"
   ]
  },
  {
   "cell_type": "code",
   "execution_count": null,
   "metadata": {},
   "outputs": [],
   "source": []
  }
 ],
 "metadata": {
  "kernelspec": {
   "display_name": "Python 3",
   "language": "python",
   "name": "python3"
  },
  "language_info": {
   "codemirror_mode": {
    "name": "ipython",
    "version": 3
   },
   "file_extension": ".py",
   "mimetype": "text/x-python",
   "name": "python",
   "nbconvert_exporter": "python",
   "pygments_lexer": "ipython3",
   "version": "3.6.5"
  }
 },
 "nbformat": 4,
 "nbformat_minor": 2
}
